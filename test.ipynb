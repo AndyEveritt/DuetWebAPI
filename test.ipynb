{
 "cells": [
  {
   "cell_type": "code",
   "execution_count": 44,
   "metadata": {},
   "outputs": [
    {
     "name": "stdout",
     "output_type": "stream",
     "text": [
      "<duetwebapi.dwa_factory.DuetWebAPI object at 0x000001B799DEDF10>\n"
     ]
    }
   ],
   "source": [
    "from duetwebapi import DuetWebAPI as DWA\n",
    "\n",
    "printer = DWA('forcerig')\n",
    "print(printer)\n",
    "\n",
    "fb = printer.get_file('config.g', 'sys', binary=True)\n",
    "f = printer.get_file('ramp-0.1_3', 'gcodes', binary=False)\n",
    "\n",
    "# printer.upload_file(f, 'test.gcode', 'gcodes')\n",
    "\n",
    "m = printer.get_model()#['directories']['scans']\n",
    "\n"
   ]
  },
  {
   "cell_type": "code",
   "execution_count": 13,
   "metadata": {},
   "outputs": [],
   "source": [
    "fb = b'; Networking\\nM552 P0.0.0.0 S1\\nM550 P\"ForceRig\"\\n\\n; General preferences\\nG21\\t\\t\\t\\t\\t\\t\\t\\t\\t\\t\\t\\t\\t\\t\\t\\t\\t\\t\\t\\t; Work in millimetres\\nG90                                                                             ; send absolute coordinates...\\nM83                                                                             ; ...but relative extruder moves\\n\\n; Drives\\nM569 P0.0 S1                                                                    ; physical drive 0.0 direction\\n\\nM584 E0.0\\t\\t\\t\\t\\t\\t\\t\\t\\t\\t\\t\\t\\t\\t\\t\\t\\t\\t; set drive mapping\\nM350 E16 I1                                                                     ; configure microstepping with interpolation\\nM92 E397                                                                        ; set steps per mm\\nM566 E300000                                                        \\t\\t\\t; set maximum instantaneous speed changes (mm/min)\\nM203 E600000                                                         \\t\\t\\t; set maximum speeds (mm/min)\\nM201 E3000\\t\\t\\t\\t\\t\\t\\t\\t\\t\\t\\t\\t\\t\\t\\t\\t\\t\\t; set accelerations (mm/s^2)\\nM906 E1330 I30                                                                  ; set motor currents (mA) and motor idle factor in per cent\\nM84 S30                                                                         ; Set idle timeout\\n\\n; Hotend\\nM308 S1 P\"temp1\" Y\"thermistor\" A\"Thermistor\" T100000 B4725 C7.06e-8 \\t\\t\\t; Set thermistor 1\\nM950 H1 C\"out1\" T1\\t\\t\\t\\t\\t\\t\\t\\t\\t\\t\\t\\t\\t\\t\\t\\t; heater 1\\nM143 H1 S500 \\t\\t\\t\\t\\t\\t\\t\\t\\t\\t\\t\\t\\t\\t\\t\\t\\t; Set temperature limit for heater 1\\nM570 P15\\t\\t\\t\\t\\t\\t\\t\\t\\t\\t\\t\\t\\t\\t\\t\\t\\t\\t; Configure thermal safety for hot tightening\\n\\n; Fans\\nM950 F1 C\"out8\"\\t\\t\\t\\t\\t\\t\\t                                        ; T0 HE\\nM950 F2 C\"out7\"\\t\\t\\t\\t\\t\\t\\t                                        ; T0 PCF\\nM106 P1 S255 H1 T70\\t\\t\\t\\t\\t\\t                                        ; T0 HE\\nM106 P2 S0\\t\\t\\t\\t\\t\\t\\t\\t                                        ; T0 PCF\\n\\n; Tools\\nM563 P0 S\"T0\" D0 H1 F2 \\t\\t\\t\\t\\t                                        ; Define tool 0\\n;M563 P0 S\"T0\" D0 F2 \\t\\t\\t\\t\\t                                        ; Define tool 0\\nG10 P0 R0 S0 \\t\\t\\t\\t\\t\\t\\t                                        ; Reset initial tool 0 active and standby temperatures to 0C\\nT0\\n\\nG92 X0 Y0 Z0\\n\\n; Testing only\\n;M302 P1                                                                         ; Allow cold extrude\\n'\n",
    "\n",
    "f = \"\""
   ]
  },
  {
   "cell_type": "code",
   "execution_count": 56,
   "metadata": {},
   "outputs": [
    {
     "ename": "AttributeError",
     "evalue": "'NoneType' object has no attribute 'split'",
     "output_type": "error",
     "traceback": [
      "\u001b[1;31m---------------------------------------------------------------------------\u001b[0m",
      "\u001b[1;31mAttributeError\u001b[0m                            Traceback (most recent call last)",
      "\u001b[1;32m<ipython-input-56-1a23f016b28b>\u001b[0m in \u001b[0;36m<module>\u001b[1;34m\u001b[0m\n\u001b[0;32m      2\u001b[0m \u001b[1;32mimport\u001b[0m \u001b[0moperator\u001b[0m\u001b[1;33m\u001b[0m\u001b[1;33m\u001b[0m\u001b[0m\n\u001b[0;32m      3\u001b[0m \u001b[1;33m\u001b[0m\u001b[0m\n\u001b[1;32m----> 4\u001b[1;33m \u001b[1;32mNone\u001b[0m\u001b[1;33m.\u001b[0m\u001b[0msplit\u001b[0m\u001b[1;33m(\u001b[0m\u001b[1;34m'.'\u001b[0m\u001b[1;33m)\u001b[0m\u001b[1;33m\u001b[0m\u001b[1;33m\u001b[0m\u001b[0m\n\u001b[0m\u001b[0;32m      5\u001b[0m \u001b[1;33m\u001b[0m\u001b[0m\n\u001b[0;32m      6\u001b[0m \u001b[1;31m# reduce(operator.getitem, [], m)\u001b[0m\u001b[1;33m\u001b[0m\u001b[1;33m\u001b[0m\u001b[1;33m\u001b[0m\u001b[0m\n",
      "\u001b[1;31mAttributeError\u001b[0m: 'NoneType' object has no attribute 'split'"
     ]
    }
   ],
   "source": [
    "from functools import reduce\n",
    "import operator\n",
    "\n",
    "None.split('.')\n",
    "\n",
    "# reduce(operator.getitem, [], m)"
   ]
  }
 ],
 "metadata": {
  "kernelspec": {
   "display_name": "Python 3.8.5 64-bit ('env')",
   "metadata": {
    "interpreter": {
     "hash": "0aefb48f3a07e422c7c761b1040515ca7b4adc5d1217337f4b4aec793ad61a6e"
    }
   },
   "name": "python3"
  },
  "language_info": {
   "codemirror_mode": {
    "name": "ipython",
    "version": 3
   },
   "file_extension": ".py",
   "mimetype": "text/x-python",
   "name": "python",
   "nbconvert_exporter": "python",
   "pygments_lexer": "ipython3",
   "version": "3.8.5-final"
  },
  "orig_nbformat": 2
 },
 "nbformat": 4,
 "nbformat_minor": 2
}